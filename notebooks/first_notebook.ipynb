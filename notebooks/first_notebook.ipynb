{
 "cells": [
  {
   "cell_type": "markdown",
   "id": "ee13b81d",
   "metadata": {},
   "source": [
    "# FIRST NOTEBOOK"
   ]
  },
  {
   "cell_type": "markdown",
   "id": "9d6df751",
   "metadata": {},
   "source": [
    "### The purpose of this notebook is to check that everything is ok with the installation"
   ]
  },
  {
   "cell_type": "code",
   "execution_count": 2,
   "id": "8f350944",
   "metadata": {},
   "outputs": [
    {
     "name": "stdout",
     "output_type": "stream",
     "text": [
      "Libraries imported. The installation of the libraries is OK :)\n"
     ]
    }
   ],
   "source": [
    "import numpy as np\n",
    "import matplotlib as plt\n",
    "\n",
    "print(\"Libraries imported. The installation of the libraries is OK :)\")"
   ]
  },
  {
   "cell_type": "code",
   "execution_count": 3,
   "id": "edb46d4e",
   "metadata": {},
   "outputs": [
    {
     "name": "stdout",
     "output_type": "stream",
     "text": [
      "[0. 0. 0. 0.]\n"
     ]
    }
   ],
   "source": [
    "arr = np.zeros(4)\n",
    "\n",
    "print(arr)"
   ]
  },
  {
   "cell_type": "code",
   "execution_count": 4,
   "id": "9e200476",
   "metadata": {},
   "outputs": [
    {
     "name": "stdout",
     "output_type": "stream",
     "text": [
      "Everything is ok, you're ready!\n"
     ]
    }
   ],
   "source": [
    "print(\"Everything is ok, you're ready!\")"
   ]
  },
  {
   "cell_type": "code",
   "execution_count": null,
   "id": "1ed588ca",
   "metadata": {},
   "outputs": [],
   "source": []
  }
 ],
 "metadata": {
  "kernelspec": {
   "display_name": "Python 3 (ipykernel)",
   "language": "python",
   "name": "python3"
  },
  "language_info": {
   "codemirror_mode": {
    "name": "ipython",
    "version": 3
   },
   "file_extension": ".py",
   "mimetype": "text/x-python",
   "name": "python",
   "nbconvert_exporter": "python",
   "pygments_lexer": "ipython3",
   "version": "3.8.10"
  }
 },
 "nbformat": 4,
 "nbformat_minor": 5
}
